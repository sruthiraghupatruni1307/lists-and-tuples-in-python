{
 "cells": [
  {
   "cell_type": "markdown",
   "id": "3c30566b",
   "metadata": {},
   "source": [
    "# objectives\n",
    "\n",
    "- accessing elements of list\n",
    "    - Indexing\n",
    "    - Slicing\n",
    "- list methods\n",
    "- tuples\n",
    "     - accessing elements of list\n",
    "         - Indexing\n",
    "         - Slicing\n",
    "     - tuple methods"
   ]
  },
  {
   "cell_type": "code",
   "execution_count": 131,
   "id": "b47095f1",
   "metadata": {},
   "outputs": [],
   "source": [
    "li=[1,2,5,4,8,85]"
   ]
  },
  {
   "cell_type": "code",
   "execution_count": 132,
   "id": "4ff1a942",
   "metadata": {},
   "outputs": [
    {
     "name": "stdout",
     "output_type": "stream",
     "text": [
      "6 85 1 105\n"
     ]
    }
   ],
   "source": [
    "print(len(li),max(li),min(li),sum(li))"
   ]
  },
  {
   "cell_type": "code",
   "execution_count": 133,
   "id": "0564a0a2",
   "metadata": {},
   "outputs": [
    {
     "name": "stdout",
     "output_type": "stream",
     "text": [
      "7\n"
     ]
    },
    {
     "ename": "TypeError",
     "evalue": "'<' not supported between instances of 'str' and 'int'",
     "output_type": "error",
     "traceback": [
      "\u001b[1;31m---------------------------------------------------------------------------\u001b[0m",
      "\u001b[1;31mTypeError\u001b[0m                                 Traceback (most recent call last)",
      "\u001b[1;32m<ipython-input-133-f35a877f6fc5>\u001b[0m in \u001b[0;36m<module>\u001b[1;34m\u001b[0m\n\u001b[0;32m      1\u001b[0m \u001b[0mli2\u001b[0m\u001b[1;33m=\u001b[0m\u001b[1;33m[\u001b[0m\u001b[1;36m1\u001b[0m\u001b[1;33m,\u001b[0m\u001b[1;36m2\u001b[0m\u001b[1;33m,\u001b[0m\u001b[1;36m5\u001b[0m\u001b[1;33m,\u001b[0m\u001b[1;36m4\u001b[0m\u001b[1;33m,\u001b[0m\u001b[1;36m8\u001b[0m\u001b[1;33m,\u001b[0m\u001b[1;36m85\u001b[0m\u001b[1;33m,\u001b[0m\u001b[1;34m'python'\u001b[0m\u001b[1;33m]\u001b[0m\u001b[1;33m\u001b[0m\u001b[1;33m\u001b[0m\u001b[0m\n\u001b[0;32m      2\u001b[0m \u001b[0mprint\u001b[0m\u001b[1;33m(\u001b[0m\u001b[0mlen\u001b[0m\u001b[1;33m(\u001b[0m\u001b[0mli2\u001b[0m\u001b[1;33m)\u001b[0m\u001b[1;33m)\u001b[0m\u001b[1;33m\u001b[0m\u001b[1;33m\u001b[0m\u001b[0m\n\u001b[1;32m----> 3\u001b[1;33m \u001b[0mprint\u001b[0m\u001b[1;33m(\u001b[0m\u001b[0mmin\u001b[0m\u001b[1;33m(\u001b[0m\u001b[0mli2\u001b[0m\u001b[1;33m)\u001b[0m\u001b[1;33m)\u001b[0m\u001b[1;33m\u001b[0m\u001b[1;33m\u001b[0m\u001b[0m\n\u001b[0m",
      "\u001b[1;31mTypeError\u001b[0m: '<' not supported between instances of 'str' and 'int'"
     ]
    }
   ],
   "source": [
    "li2=[1,2,5,4,8,85,'python']\n",
    "print(len(li2))\n",
    "print(min(li2))"
   ]
  },
  {
   "cell_type": "markdown",
   "id": "9e9188b2",
   "metadata": {},
   "source": [
    "## accessing elements from the list\n",
    "\n",
    "- Indexing\n",
    "- Slicing"
   ]
  },
  {
   "cell_type": "code",
   "execution_count": 134,
   "id": "d0c9168f",
   "metadata": {},
   "outputs": [
    {
     "name": "stdout",
     "output_type": "stream",
     "text": [
      "1\n",
      "85\n",
      "8\n",
      "1\n"
     ]
    },
    {
     "ename": "IndexError",
     "evalue": "list index out of range",
     "output_type": "error",
     "traceback": [
      "\u001b[1;31m---------------------------------------------------------------------------\u001b[0m",
      "\u001b[1;31mIndexError\u001b[0m                                Traceback (most recent call last)",
      "\u001b[1;32m<ipython-input-134-9e11710a8386>\u001b[0m in \u001b[0;36m<module>\u001b[1;34m\u001b[0m\n\u001b[0;32m      3\u001b[0m \u001b[0mprint\u001b[0m\u001b[1;33m(\u001b[0m\u001b[0mli\u001b[0m\u001b[1;33m[\u001b[0m\u001b[1;33m-\u001b[0m\u001b[1;36m2\u001b[0m\u001b[1;33m]\u001b[0m\u001b[1;33m)\u001b[0m\u001b[1;33m\u001b[0m\u001b[1;33m\u001b[0m\u001b[0m\n\u001b[0;32m      4\u001b[0m \u001b[0mprint\u001b[0m\u001b[1;33m(\u001b[0m\u001b[0mli\u001b[0m\u001b[1;33m[\u001b[0m\u001b[1;33m-\u001b[0m\u001b[1;36m6\u001b[0m\u001b[1;33m]\u001b[0m\u001b[1;33m)\u001b[0m\u001b[1;33m\u001b[0m\u001b[1;33m\u001b[0m\u001b[0m\n\u001b[1;32m----> 5\u001b[1;33m \u001b[0mprint\u001b[0m\u001b[1;33m(\u001b[0m\u001b[0mli\u001b[0m\u001b[1;33m[\u001b[0m\u001b[1;36m7\u001b[0m\u001b[1;33m]\u001b[0m\u001b[1;33m)\u001b[0m\u001b[1;33m\u001b[0m\u001b[1;33m\u001b[0m\u001b[0m\n\u001b[0m",
      "\u001b[1;31mIndexError\u001b[0m: list index out of range"
     ]
    }
   ],
   "source": [
    "print(li[0])\n",
    "print(li[5])\n",
    "print(li[-2])\n",
    "print(li[-6])\n",
    "print(li[7])"
   ]
  },
  {
   "cell_type": "markdown",
   "id": "04ec647c",
   "metadata": {},
   "source": [
    "## syntax of slicing\n",
    "\n",
    "list_var[SI:EI]"
   ]
  },
  {
   "cell_type": "code",
   "execution_count": 135,
   "id": "dd7b1b4b",
   "metadata": {},
   "outputs": [
    {
     "name": "stdout",
     "output_type": "stream",
     "text": [
      "[1] [1, 2] [1, 2] [1, 2] [1, 2, 5, 4, 8, 85]\n"
     ]
    }
   ],
   "source": [
    "print(li[0:1],li[0:2],li[0:2],li[:2],li[0:])"
   ]
  },
  {
   "cell_type": "code",
   "execution_count": 136,
   "id": "12c5e7df",
   "metadata": {},
   "outputs": [
    {
     "name": "stdout",
     "output_type": "stream",
     "text": [
      "[1, 2, 5, 4] [] [8, 85] [8, 85] [1, 2, 5]\n"
     ]
    }
   ],
   "source": [
    "print(li[:-2],li[-1:-3],li[4:],li[len(li)-2:],li[:-3])"
   ]
  },
  {
   "cell_type": "code",
   "execution_count": 137,
   "id": "37a6c2a0",
   "metadata": {},
   "outputs": [
    {
     "name": "stdout",
     "output_type": "stream",
     "text": [
      "[8, 85]\n"
     ]
    }
   ],
   "source": [
    "print(li[-2:])"
   ]
  },
  {
   "cell_type": "code",
   "execution_count": 138,
   "id": "641b86fa",
   "metadata": {},
   "outputs": [
    {
     "name": "stdout",
     "output_type": "stream",
     "text": [
      "[85, 8, 4]\n"
     ]
    }
   ],
   "source": [
    "print(li[:2:-1])"
   ]
  },
  {
   "cell_type": "code",
   "execution_count": 139,
   "id": "fb3cb182",
   "metadata": {},
   "outputs": [
    {
     "data": {
      "text/plain": [
       "[1, 2, 5, 4, 8, 85]"
      ]
     },
     "execution_count": 139,
     "metadata": {},
     "output_type": "execute_result"
    }
   ],
   "source": [
    "li"
   ]
  },
  {
   "cell_type": "code",
   "execution_count": 140,
   "id": "dc446cda",
   "metadata": {},
   "outputs": [
    {
     "name": "stdout",
     "output_type": "stream",
     "text": [
      "[1, 5, 8]\n"
     ]
    }
   ],
   "source": [
    "print(li[: :2])"
   ]
  },
  {
   "cell_type": "code",
   "execution_count": 141,
   "id": "9ac99d74",
   "metadata": {},
   "outputs": [
    {
     "name": "stdout",
     "output_type": "stream",
     "text": [
      "[85, 4, 2]\n"
     ]
    }
   ],
   "source": [
    "print(li[: :-2])"
   ]
  },
  {
   "cell_type": "code",
   "execution_count": 142,
   "id": "c63b22ba",
   "metadata": {},
   "outputs": [
    {
     "name": "stdout",
     "output_type": "stream",
     "text": [
      "[1, 2, 5, 4, 8, 85, 'python']\n"
     ]
    }
   ],
   "source": [
    "print(li2)"
   ]
  },
  {
   "cell_type": "code",
   "execution_count": 143,
   "id": "c74b8b76",
   "metadata": {},
   "outputs": [
    {
     "name": "stdout",
     "output_type": "stream",
     "text": [
      "7\n"
     ]
    }
   ],
   "source": [
    "print(len(li2))"
   ]
  },
  {
   "cell_type": "code",
   "execution_count": 144,
   "id": "c1850372",
   "metadata": {},
   "outputs": [
    {
     "name": "stdout",
     "output_type": "stream",
     "text": [
      "1 85\n"
     ]
    }
   ],
   "source": [
    "print(li2[0],li2[5])"
   ]
  },
  {
   "cell_type": "code",
   "execution_count": 145,
   "id": "03f3c2ea",
   "metadata": {},
   "outputs": [
    {
     "name": "stdout",
     "output_type": "stream",
     "text": [
      "python 85\n"
     ]
    }
   ],
   "source": [
    "print(li2[-1],li2[-2])"
   ]
  },
  {
   "cell_type": "code",
   "execution_count": 146,
   "id": "7e364434",
   "metadata": {},
   "outputs": [
    {
     "name": "stdout",
     "output_type": "stream",
     "text": [
      "PYTHON\n"
     ]
    }
   ],
   "source": [
    "print(li2[-1].upper())"
   ]
  },
  {
   "cell_type": "code",
   "execution_count": 147,
   "id": "bbf19d55",
   "metadata": {},
   "outputs": [
    {
     "name": "stdout",
     "output_type": "stream",
     "text": [
      "python\n"
     ]
    }
   ],
   "source": [
    "print(li2[-1].strip())"
   ]
  },
  {
   "cell_type": "code",
   "execution_count": 148,
   "id": "36ddbb42",
   "metadata": {},
   "outputs": [
    {
     "name": "stdout",
     "output_type": "stream",
     "text": [
      "[1, 2, 5, 4, 8] [1, 2, 5, 4, 8]\n"
     ]
    }
   ],
   "source": [
    "print(li2[0:5],li2[:5])"
   ]
  },
  {
   "cell_type": "code",
   "execution_count": 149,
   "id": "6ce899d7",
   "metadata": {},
   "outputs": [
    {
     "name": "stdout",
     "output_type": "stream",
     "text": [
      "[8, 85, 'python']\n"
     ]
    }
   ],
   "source": [
    "print(li2[-3:])"
   ]
  },
  {
   "cell_type": "code",
   "execution_count": 150,
   "id": "ab10276f",
   "metadata": {},
   "outputs": [
    {
     "name": "stdout",
     "output_type": "stream",
     "text": [
      "[1, 5, 8, 'python']\n"
     ]
    }
   ],
   "source": [
    "print(li2[0::2])"
   ]
  },
  {
   "cell_type": "code",
   "execution_count": 151,
   "id": "a3ee6b89",
   "metadata": {},
   "outputs": [
    {
     "name": "stdout",
     "output_type": "stream",
     "text": [
      "['python', 8, 5, 1]\n"
     ]
    }
   ],
   "source": [
    "print(li2[::-2])"
   ]
  },
  {
   "cell_type": "code",
   "execution_count": 152,
   "id": "4627312a",
   "metadata": {},
   "outputs": [
    {
     "name": "stdout",
     "output_type": "stream",
     "text": [
      "['python', 85, 8, 4, 5, 2, 1]\n"
     ]
    }
   ],
   "source": [
    "print(li2[::-1])"
   ]
  },
  {
   "cell_type": "code",
   "execution_count": 153,
   "id": "61618d2b",
   "metadata": {},
   "outputs": [
    {
     "name": "stdout",
     "output_type": "stream",
     "text": [
      "[[1, 2, 3], [4, 5, 6], [7, 8, 9]]\n"
     ]
    }
   ],
   "source": [
    "matrix=[[1,2,3],[4,5,6],[7,8,9]]\n",
    "print(matrix)"
   ]
  },
  {
   "cell_type": "code",
   "execution_count": 154,
   "id": "57bc1fbe",
   "metadata": {},
   "outputs": [
    {
     "name": "stdout",
     "output_type": "stream",
     "text": [
      "[1, 2, 3]\n"
     ]
    }
   ],
   "source": [
    "print(matrix[0])"
   ]
  },
  {
   "cell_type": "code",
   "execution_count": 155,
   "id": "533463bc",
   "metadata": {},
   "outputs": [
    {
     "name": "stdout",
     "output_type": "stream",
     "text": [
      "3\n"
     ]
    }
   ],
   "source": [
    "print(matrix[0][2])"
   ]
  },
  {
   "cell_type": "code",
   "execution_count": 156,
   "id": "9cf2ea87",
   "metadata": {},
   "outputs": [
    {
     "name": "stdout",
     "output_type": "stream",
     "text": [
      "9\n"
     ]
    }
   ],
   "source": [
    "print(matrix[2][2])"
   ]
  },
  {
   "cell_type": "code",
   "execution_count": 157,
   "id": "7a63e535",
   "metadata": {},
   "outputs": [
    {
     "ename": "IndexError",
     "evalue": "list index out of range",
     "output_type": "error",
     "traceback": [
      "\u001b[1;31m---------------------------------------------------------------------------\u001b[0m",
      "\u001b[1;31mIndexError\u001b[0m                                Traceback (most recent call last)",
      "\u001b[1;32m<ipython-input-157-bba4b9ce86a9>\u001b[0m in \u001b[0;36m<module>\u001b[1;34m\u001b[0m\n\u001b[1;32m----> 1\u001b[1;33m \u001b[0mprint\u001b[0m\u001b[1;33m(\u001b[0m\u001b[0mmatrix\u001b[0m\u001b[1;33m[\u001b[0m\u001b[1;36m0\u001b[0m\u001b[1;33m]\u001b[0m\u001b[1;33m[\u001b[0m\u001b[1;36m3\u001b[0m\u001b[1;33m]\u001b[0m\u001b[1;33m)\u001b[0m\u001b[1;33m\u001b[0m\u001b[1;33m\u001b[0m\u001b[0m\n\u001b[0m",
      "\u001b[1;31mIndexError\u001b[0m: list index out of range"
     ]
    }
   ],
   "source": [
    "print(matrix[0][3])"
   ]
  },
  {
   "cell_type": "code",
   "execution_count": 158,
   "id": "708f2214",
   "metadata": {},
   "outputs": [
    {
     "name": "stdout",
     "output_type": "stream",
     "text": [
      "[2, 3]\n"
     ]
    }
   ],
   "source": [
    "print(matrix[0][1:])"
   ]
  },
  {
   "cell_type": "code",
   "execution_count": 159,
   "id": "8d83d4e6",
   "metadata": {},
   "outputs": [
    {
     "name": "stdout",
     "output_type": "stream",
     "text": [
      "[6, 5, 4]\n"
     ]
    }
   ],
   "source": [
    "print(matrix[1][::-1])"
   ]
  },
  {
   "cell_type": "code",
   "execution_count": 160,
   "id": "166bf0ac",
   "metadata": {},
   "outputs": [
    {
     "name": "stdout",
     "output_type": "stream",
     "text": [
      "3 9\n"
     ]
    }
   ],
   "source": [
    "print(len(matrix[2]),max(matrix[2]))"
   ]
  },
  {
   "cell_type": "code",
   "execution_count": 161,
   "id": "16abe4ad",
   "metadata": {},
   "outputs": [
    {
     "name": "stdout",
     "output_type": "stream",
     "text": [
      "[2]\n"
     ]
    }
   ],
   "source": [
    "print(matrix[0][1:2])"
   ]
  },
  {
   "cell_type": "code",
   "execution_count": 162,
   "id": "9118c659",
   "metadata": {},
   "outputs": [
    {
     "name": "stdout",
     "output_type": "stream",
     "text": [
      "[1, 2, 3]\n",
      "[4, 5, 6]\n",
      "[7, 8, 9]\n"
     ]
    }
   ],
   "source": [
    "for ele in matrix:\n",
    "    print(ele)"
   ]
  },
  {
   "cell_type": "code",
   "execution_count": 163,
   "id": "c3a0f69c",
   "metadata": {},
   "outputs": [
    {
     "name": "stdout",
     "output_type": "stream",
     "text": [
      "1\n",
      "2\n",
      "5\n",
      "4\n",
      "8\n",
      "85\n"
     ]
    }
   ],
   "source": [
    "for ele in li:\n",
    "    print(ele)"
   ]
  },
  {
   "cell_type": "code",
   "execution_count": 164,
   "id": "11c5828e",
   "metadata": {},
   "outputs": [
    {
     "name": "stdout",
     "output_type": "stream",
     "text": [
      "2\n",
      "5\n",
      "8\n"
     ]
    }
   ],
   "source": [
    "for i in range(3):\n",
    "    for j in range(3):\n",
    "        if j==1:\n",
    "            print(matrix[i][j])"
   ]
  },
  {
   "cell_type": "code",
   "execution_count": 165,
   "id": "8aa216fc",
   "metadata": {},
   "outputs": [
    {
     "name": "stdout",
     "output_type": "stream",
     "text": [
      "2\n",
      "5\n",
      "8\n"
     ]
    }
   ],
   "source": [
    "for ele in matrix:\n",
    "    print (ele[1])"
   ]
  },
  {
   "cell_type": "code",
   "execution_count": 166,
   "id": "bfceb5c2",
   "metadata": {},
   "outputs": [
    {
     "name": "stdout",
     "output_type": "stream",
     "text": [
      "[[1, 2, 3], [4, 5, 6], [7, 8, 9]] [7, 8, 9]\n"
     ]
    }
   ],
   "source": [
    "print(matrix[:],matrix[:][2])"
   ]
  },
  {
   "cell_type": "code",
   "execution_count": 167,
   "id": "dac45b74",
   "metadata": {},
   "outputs": [
    {
     "name": "stdout",
     "output_type": "stream",
     "text": [
      "[2, 3]\n",
      "[5, 6]\n",
      "[8, 9]\n",
      "2 3\n",
      "5 6\n",
      "8 9\n"
     ]
    }
   ],
   "source": [
    "for ele in matrix:\n",
    "    print(ele[1:])\n",
    "for ele in matrix:\n",
    "    print(ele[1],ele[2])"
   ]
  },
  {
   "cell_type": "markdown",
   "id": "44600a58",
   "metadata": {},
   "source": [
    "# list elements"
   ]
  },
  {
   "cell_type": "code",
   "execution_count": 46,
   "id": "fec09337",
   "metadata": {},
   "outputs": [],
   "source": [
    "empty=[]"
   ]
  },
  {
   "cell_type": "code",
   "execution_count": 47,
   "id": "cda0f13b",
   "metadata": {},
   "outputs": [
    {
     "name": "stdout",
     "output_type": "stream",
     "text": [
      "[5, 55, [1, 2, 3]]\n"
     ]
    }
   ],
   "source": [
    "empty.append(5)\n",
    "empty.append(55)\n",
    "empty.append([1,2,3])\n",
    "print(empty)"
   ]
  },
  {
   "cell_type": "code",
   "execution_count": 49,
   "id": "35ea44b7",
   "metadata": {},
   "outputs": [
    {
     "name": "stdout",
     "output_type": "stream",
     "text": [
      "enter elements to add to listiwrhfjefh\n",
      "enter elements to add to listeyfhwf\n",
      "enter elements to add to listrh\n",
      "enter elements to add to listkueyfeuf\n",
      "enter elements to add to listueyfuiqef\n"
     ]
    }
   ],
   "source": [
    "for i in range(5):\n",
    "    empty.append(input(\"enter elements to add to list\"))"
   ]
  },
  {
   "cell_type": "code",
   "execution_count": 50,
   "id": "b30d10f2",
   "metadata": {},
   "outputs": [
    {
     "name": "stdout",
     "output_type": "stream",
     "text": [
      "[5, 55, [1, 2, 3], 'iwrhfjefh', 'eyfhwf', 'rh', 'kueyfeuf', 'ueyfuiqef']\n"
     ]
    }
   ],
   "source": [
    "print(empty)"
   ]
  },
  {
   "cell_type": "code",
   "execution_count": 51,
   "id": "aee43eea",
   "metadata": {},
   "outputs": [
    {
     "name": "stdout",
     "output_type": "stream",
     "text": [
      "[1, 2, 5, 4, 8, 85]\n"
     ]
    }
   ],
   "source": [
    "print(li)"
   ]
  },
  {
   "cell_type": "code",
   "execution_count": 52,
   "id": "3218a333",
   "metadata": {},
   "outputs": [
    {
     "name": "stdout",
     "output_type": "stream",
     "text": [
      "[5, 55, [1, 2, 3], 'iwrhfjefh', 'eyfhwf', 'rh', 'kueyfeuf', 'ueyfuiqef', 1, 2, 5, 4, 8, 85]\n"
     ]
    }
   ],
   "source": [
    "empty.extend(li)\n",
    "print(empty)"
   ]
  },
  {
   "cell_type": "code",
   "execution_count": 53,
   "id": "08f9c8b5",
   "metadata": {},
   "outputs": [
    {
     "name": "stdout",
     "output_type": "stream",
     "text": [
      "[5, 55, [1, 2, 3], 'iwrhfjefh', 'eyfhwf', 'rh', 'kueyfeuf', 'ueyfuiqef', 1, 2, 5, 4, 8, 85]\n"
     ]
    }
   ],
   "source": [
    "print(empty)"
   ]
  },
  {
   "cell_type": "code",
   "execution_count": 54,
   "id": "8bcd6d03",
   "metadata": {},
   "outputs": [
    {
     "name": "stdout",
     "output_type": "stream",
     "text": [
      "[5, 55, [1, 2, 3], 'iwrhfjefh', 'eyfhwf', 'rh', 'kueyfeuf', 'ueyfuiqef', 1, 2, 5, 4, 8, 85, 1, 2, 5, 4, 8, 85]\n"
     ]
    }
   ],
   "source": [
    "print(empty+li)"
   ]
  },
  {
   "cell_type": "code",
   "execution_count": 55,
   "id": "4b377046",
   "metadata": {},
   "outputs": [
    {
     "name": "stdout",
     "output_type": "stream",
     "text": [
      "[5, 55, [1, 2, 3], 'iwrhfjefh', 'eyfhwf', 'rh', 'kueyfeuf', 'ueyfuiqef', 1, 2, 5, 4, 8, 85]\n"
     ]
    }
   ],
   "source": [
    "print(empty)"
   ]
  },
  {
   "cell_type": "code",
   "execution_count": 56,
   "id": "f3d2c588",
   "metadata": {},
   "outputs": [
    {
     "name": "stdout",
     "output_type": "stream",
     "text": [
      "[5, 55, [1, 2, 3], 'iwrhfjefh', 'eyfhwf', 'rh', 'kueyfeuf', 'ueyfuiqef', 1, 2, 5, 4, 8, 85, 1, 2, 5, 4, 8, 85]\n"
     ]
    }
   ],
   "source": [
    "emp2=empty+li\n",
    "print(emp2)"
   ]
  },
  {
   "cell_type": "code",
   "execution_count": 58,
   "id": "150661dc",
   "metadata": {},
   "outputs": [
    {
     "name": "stdout",
     "output_type": "stream",
     "text": [
      "[1, 2, 3]\n"
     ]
    }
   ],
   "source": [
    "print(emp2[2])"
   ]
  },
  {
   "cell_type": "code",
   "execution_count": 59,
   "id": "3fd85304",
   "metadata": {},
   "outputs": [
    {
     "name": "stdout",
     "output_type": "stream",
     "text": [
      "[5, 55, [1, 2, 5, 4, 8, 85], 'iwrhfjefh', 'eyfhwf', 'rh', 'kueyfeuf', 'ueyfuiqef', 1, 2, 5, 4, 8, 85, 1, 2, 5, 4, 8, 85]\n"
     ]
    }
   ],
   "source": [
    "emp2[2]=li\n",
    "print(emp2)"
   ]
  },
  {
   "cell_type": "code",
   "execution_count": 61,
   "id": "a0516e5d",
   "metadata": {},
   "outputs": [
    {
     "name": "stdout",
     "output_type": "stream",
     "text": [
      "[5, 55, 1, 2, 5, 4, 8, 85, 'eyfhwf', 'rh', 'kueyfeuf', 'ueyfuiqef', 1, 2, 5, 4, 8, 85, 1, 2, 5, 4, 8, 85]\n"
     ]
    }
   ],
   "source": [
    "emp2[2:4]=li\n",
    "print(emp2)"
   ]
  },
  {
   "cell_type": "code",
   "execution_count": 63,
   "id": "e4eda875",
   "metadata": {},
   "outputs": [
    {
     "name": "stdout",
     "output_type": "stream",
     "text": [
      "[5, 10, 55, 1, 2, 5, 4, 8, 85, 'eyfhwf', 'rh', 'kueyfeuf', 'ueyfuiqef', 1, 2, 5, 4, 8, 85, 1, 2, 5, 4, 8, 85]\n"
     ]
    }
   ],
   "source": [
    "emp2.insert(1,10)\n",
    "print(emp2)"
   ]
  },
  {
   "cell_type": "code",
   "execution_count": 65,
   "id": "ce00612d",
   "metadata": {},
   "outputs": [
    {
     "name": "stdout",
     "output_type": "stream",
     "text": [
      "[5, 10, 55, 1, 2, 5, 4, 8, 85, 'eyfhwf', 'rh', 'kueyfeuf', 'ueyfuiqef', 1, 2, 5, 4, 8, 85, 1, 2, 5, 4]\n"
     ]
    }
   ],
   "source": [
    "emp2.pop()\n",
    "print(emp2)    # LIFO"
   ]
  },
  {
   "cell_type": "code",
   "execution_count": 67,
   "id": "c5e7b9ca",
   "metadata": {},
   "outputs": [
    {
     "name": "stdout",
     "output_type": "stream",
     "text": [
      "[5, 10, 1, 2, 5, 4, 8, 85, 'eyfhwf', 'rh', 'kueyfeuf', 'ueyfuiqef', 1, 2, 5, 4, 8, 85, 1, 2, 5, 4]\n"
     ]
    }
   ],
   "source": [
    "emp2.pop(2)\n",
    "print(emp2)"
   ]
  },
  {
   "cell_type": "code",
   "execution_count": 72,
   "id": "4f8ddc7d",
   "metadata": {},
   "outputs": [
    {
     "name": "stdout",
     "output_type": "stream",
     "text": [
      "[5, 10, 1, 2, 5, 4, 8, 85, 'eyfhwf', 'kueyfeuf', 'ueyfuiqef', 1, 2, 5, 4, 8, 85, 1, 2, 5, 4]\n"
     ]
    }
   ],
   "source": [
    "print(emp2)"
   ]
  },
  {
   "cell_type": "code",
   "execution_count": 74,
   "id": "4df0dbd4",
   "metadata": {},
   "outputs": [
    {
     "ename": "ValueError",
     "evalue": "list.remove(x): x not in list",
     "output_type": "error",
     "traceback": [
      "\u001b[1;31m---------------------------------------------------------------------------\u001b[0m",
      "\u001b[1;31mValueError\u001b[0m                                Traceback (most recent call last)",
      "\u001b[1;32m<ipython-input-74-da6ec35df3ce>\u001b[0m in \u001b[0;36m<module>\u001b[1;34m\u001b[0m\n\u001b[1;32m----> 1\u001b[1;33m \u001b[0memp2\u001b[0m\u001b[1;33m.\u001b[0m\u001b[0mremove\u001b[0m\u001b[1;33m(\u001b[0m\u001b[1;34m\"85\"\u001b[0m\u001b[1;33m)\u001b[0m\u001b[1;33m\u001b[0m\u001b[1;33m\u001b[0m\u001b[0m\n\u001b[0m",
      "\u001b[1;31mValueError\u001b[0m: list.remove(x): x not in list"
     ]
    }
   ],
   "source": [
    "emp2.remove(\"85\")"
   ]
  },
  {
   "cell_type": "code",
   "execution_count": 75,
   "id": "1fba727b",
   "metadata": {},
   "outputs": [
    {
     "name": "stdout",
     "output_type": "stream",
     "text": [
      "[5, 10, 1, 2, 5, 4, 8, 85, 'eyfhwf', 'kueyfeuf', 'ueyfuiqef', 1, 2, 5, 4, 8, 85, 1, 2, 5, 4]\n"
     ]
    }
   ],
   "source": [
    "print(emp2)"
   ]
  },
  {
   "cell_type": "code",
   "execution_count": 76,
   "id": "ca06143f",
   "metadata": {},
   "outputs": [
    {
     "name": "stdout",
     "output_type": "stream",
     "text": [
      "4\n",
      "[5, 10, 1, 2, 5, 4, 8, 85, 'eyfhwf', 'kueyfeuf', 'ueyfuiqef', 1, 2, 5, 4, 8, 85, 1, 2, 5]\n"
     ]
    }
   ],
   "source": [
    "print(emp2.pop())\n",
    "print(emp2)"
   ]
  },
  {
   "cell_type": "code",
   "execution_count": 77,
   "id": "4b8ceecd",
   "metadata": {},
   "outputs": [
    {
     "name": "stdout",
     "output_type": "stream",
     "text": [
      "[5, 10, 1, 2, 5, 4, 8, 85, 'eyfhwf', 'kueyfeuf', 'ueyfuiqef', 1, 2, 5, 4, 8, 85, 1, 2, 5] [5, 10, 1, 2, 5, 4, 8, 85, 'eyfhwf', 'kueyfeuf', 'ueyfuiqef', 1, 2, 5, 4, 8, 85, 1, 2, 5]\n"
     ]
    }
   ],
   "source": [
    "emp3=emp2\n",
    "print(emp3,emp2)"
   ]
  },
  {
   "cell_type": "code",
   "execution_count": 78,
   "id": "bf6a15aa",
   "metadata": {},
   "outputs": [
    {
     "name": "stdout",
     "output_type": "stream",
     "text": [
      "5\n",
      "[5, 10, 1, 2, 5, 4, 8, 85, 'eyfhwf', 'kueyfeuf', 'ueyfuiqef', 1, 2, 5, 4, 8, 85, 1, 2] [5, 10, 1, 2, 5, 4, 8, 85, 'eyfhwf', 'kueyfeuf', 'ueyfuiqef', 1, 2, 5, 4, 8, 85, 1, 2]\n"
     ]
    }
   ],
   "source": [
    "print(emp3.pop())\n",
    "print(emp2,emp3)"
   ]
  },
  {
   "cell_type": "code",
   "execution_count": 79,
   "id": "33951383",
   "metadata": {},
   "outputs": [
    {
     "name": "stdout",
     "output_type": "stream",
     "text": [
      "1206951236416 1206951228544\n",
      "[5, 10, 1, 2, 5, 4, 8, 85, 'eyfhwf', 'kueyfeuf', 'ueyfuiqef', 1, 2, 5, 4, 8, 85, 1, 2] [5, 10, 1, 2, 5, 4, 8, 85, 'eyfhwf', 'kueyfeuf', 'ueyfuiqef', 1, 2, 5, 4, 8, 85, 1, 2]\n"
     ]
    }
   ],
   "source": [
    "emp3=emp2.copy()\n",
    "print(id(emp2),id(emp3))\n",
    "print(emp2,emp3)"
   ]
  },
  {
   "cell_type": "code",
   "execution_count": 80,
   "id": "7b417007",
   "metadata": {},
   "outputs": [
    {
     "name": "stdout",
     "output_type": "stream",
     "text": [
      "2\n",
      "[5, 10, 1, 2, 5, 4, 8, 85, 'eyfhwf', 'kueyfeuf', 'ueyfuiqef', 1, 2, 5, 4, 8, 85, 1, 2] [5, 10, 1, 2, 5, 4, 8, 85, 'eyfhwf', 'kueyfeuf', 'ueyfuiqef', 1, 2, 5, 4, 8, 85, 1]\n"
     ]
    }
   ],
   "source": [
    "print(emp3.pop())\n",
    "print(emp2,emp3)"
   ]
  },
  {
   "cell_type": "code",
   "execution_count": 81,
   "id": "237719ed",
   "metadata": {},
   "outputs": [
    {
     "name": "stdout",
     "output_type": "stream",
     "text": [
      "3\n"
     ]
    }
   ],
   "source": [
    "print(emp2.count(2))"
   ]
  },
  {
   "cell_type": "code",
   "execution_count": 82,
   "id": "0b21b05f",
   "metadata": {},
   "outputs": [
    {
     "name": "stdout",
     "output_type": "stream",
     "text": [
      "8\n"
     ]
    }
   ],
   "source": [
    "print(emp2.index(\"eyfhwf\"))"
   ]
  },
  {
   "cell_type": "code",
   "execution_count": 83,
   "id": "46c9d612",
   "metadata": {},
   "outputs": [
    {
     "name": "stdout",
     "output_type": "stream",
     "text": [
      "[2, 1, 85, 8, 4, 5, 2, 1, 'ueyfuiqef', 'kueyfeuf', 'eyfhwf', 85, 8, 4, 5, 2, 1, 10, 5]\n"
     ]
    }
   ],
   "source": [
    "emp2.reverse()\n",
    "print(emp2)"
   ]
  },
  {
   "cell_type": "code",
   "execution_count": 84,
   "id": "154a3c27",
   "metadata": {},
   "outputs": [
    {
     "name": "stdout",
     "output_type": "stream",
     "text": [
      "None\n"
     ]
    }
   ],
   "source": [
    "print(emp2.reverse())"
   ]
  },
  {
   "cell_type": "code",
   "execution_count": 85,
   "id": "8c737159",
   "metadata": {},
   "outputs": [
    {
     "name": "stdout",
     "output_type": "stream",
     "text": [
      "[1, 2, 5, 4, 8, 85]\n"
     ]
    }
   ],
   "source": [
    "print(li)"
   ]
  },
  {
   "cell_type": "code",
   "execution_count": 86,
   "id": "59f26e00",
   "metadata": {},
   "outputs": [
    {
     "name": "stdout",
     "output_type": "stream",
     "text": [
      "[59, 67, 23, 987, 52]\n"
     ]
    }
   ],
   "source": [
    "li3=[59,67,23,987,52]\n",
    "print(li3)"
   ]
  },
  {
   "cell_type": "code",
   "execution_count": 87,
   "id": "2ccd3760",
   "metadata": {},
   "outputs": [
    {
     "name": "stdout",
     "output_type": "stream",
     "text": [
      "[23, 52, 59, 67, 987]\n"
     ]
    }
   ],
   "source": [
    "li3.sort()\n",
    "print(li3)"
   ]
  },
  {
   "cell_type": "code",
   "execution_count": 119,
   "id": "26383e44",
   "metadata": {},
   "outputs": [
    {
     "name": "stdout",
     "output_type": "stream",
     "text": [
      "[[35, 5, 6], [40, 20, 3], [6, 75, 8]]\n"
     ]
    }
   ],
   "source": [
    "matrix1=[[1,20,3],[4,5,6],[6,7,8]]\n",
    "print(matrix)"
   ]
  },
  {
   "cell_type": "code",
   "execution_count": 120,
   "id": "06a6c17f",
   "metadata": {},
   "outputs": [
    {
     "name": "stdout",
     "output_type": "stream",
     "text": [
      "[[35, 5, 6], [40, 20, 3], [6, 75, 8]]\n"
     ]
    }
   ],
   "source": [
    "matrix1=[[40,20,3],[35,5,6],[6,75,8]]\n",
    "matrix1.sort()\n",
    "print(matrix)"
   ]
  },
  {
   "cell_type": "code",
   "execution_count": 128,
   "id": "fab2c273",
   "metadata": {},
   "outputs": [
    {
     "name": "stdout",
     "output_type": "stream",
     "text": [
      "[[35, 5, 6], [40, 20, 3], [6, 75, 8]]\n"
     ]
    }
   ],
   "source": [
    "matrix1=[[40,20,3],[35,5,6],[6,75,8]]\n",
    "matrix1.sort(key=lambda x:x[1])\n",
    "print(matrix1)"
   ]
  },
  {
   "cell_type": "code",
   "execution_count": 129,
   "id": "0f8d45e6",
   "metadata": {},
   "outputs": [
    {
     "name": "stdout",
     "output_type": "stream",
     "text": [
      "[[6, 75, 8], [35, 5, 6], [40, 20, 3]]\n",
      "[[35, 5, 6], [40, 20, 3], [6, 75, 8]]\n"
     ]
    }
   ],
   "source": [
    "print(sorted(matrix1))\n",
    "print(matrix1)"
   ]
  },
  {
   "cell_type": "code",
   "execution_count": 130,
   "id": "dab0029a",
   "metadata": {},
   "outputs": [
    {
     "name": "stdout",
     "output_type": "stream",
     "text": [
      "[[6, 75, 8], [40, 20, 3], [35, 5, 6]]\n"
     ]
    }
   ],
   "source": [
    "print(list(reversed(matrix1)))"
   ]
  },
  {
   "cell_type": "code",
   "execution_count": 124,
   "id": "c8a8f492",
   "metadata": {},
   "outputs": [
    {
     "ename": "NameError",
     "evalue": "name 'emp3' is not defined",
     "output_type": "error",
     "traceback": [
      "\u001b[1;31m---------------------------------------------------------------------------\u001b[0m",
      "\u001b[1;31mNameError\u001b[0m                                 Traceback (most recent call last)",
      "\u001b[1;32m<ipython-input-124-d45df58e8055>\u001b[0m in \u001b[0;36m<module>\u001b[1;34m\u001b[0m\n\u001b[1;32m----> 1\u001b[1;33m \u001b[0memp3\u001b[0m\u001b[1;33m.\u001b[0m\u001b[0mclear\u001b[0m\u001b[1;33m(\u001b[0m\u001b[1;33m)\u001b[0m\u001b[1;33m\u001b[0m\u001b[1;33m\u001b[0m\u001b[0m\n\u001b[0m\u001b[0;32m      2\u001b[0m \u001b[0mprint\u001b[0m\u001b[1;33m(\u001b[0m\u001b[0memp3\u001b[0m\u001b[1;33m)\u001b[0m\u001b[1;33m\u001b[0m\u001b[1;33m\u001b[0m\u001b[0m\n",
      "\u001b[1;31mNameError\u001b[0m: name 'emp3' is not defined"
     ]
    }
   ],
   "source": [
    "emp3.clear()\n",
    "print(emp3)"
   ]
  },
  {
   "cell_type": "code",
   "execution_count": 125,
   "id": "bb6c596e",
   "metadata": {},
   "outputs": [
    {
     "ename": "NameError",
     "evalue": "name 'emp3' is not defined",
     "output_type": "error",
     "traceback": [
      "\u001b[1;31m---------------------------------------------------------------------------\u001b[0m",
      "\u001b[1;31mNameError\u001b[0m                                 Traceback (most recent call last)",
      "\u001b[1;32m<ipython-input-125-23c5dbb3fbbf>\u001b[0m in \u001b[0;36m<module>\u001b[1;34m\u001b[0m\n\u001b[1;32m----> 1\u001b[1;33m \u001b[1;32mdel\u001b[0m \u001b[0memp3\u001b[0m\u001b[1;33m\u001b[0m\u001b[1;33m\u001b[0m\u001b[0m\n\u001b[0m\u001b[0;32m      2\u001b[0m \u001b[0mprint\u001b[0m\u001b[1;33m(\u001b[0m\u001b[0memp3\u001b[0m\u001b[1;33m)\u001b[0m\u001b[1;33m\u001b[0m\u001b[1;33m\u001b[0m\u001b[0m\n",
      "\u001b[1;31mNameError\u001b[0m: name 'emp3' is not defined"
     ]
    }
   ],
   "source": [
    "del emp3\n",
    "print(emp3)"
   ]
  },
  {
   "cell_type": "markdown",
   "id": "178db3a4",
   "metadata": {},
   "source": [
    "# tuples\n",
    "\n",
    "**sorting the group of non homogeneous group of data**\n",
    "- using ()\n",
    "- it is immutable\n",
    "- it is ordered"
   ]
  },
  {
   "cell_type": "code",
   "execution_count": 126,
   "id": "73c0f1a7",
   "metadata": {},
   "outputs": [],
   "source": [
    "t1=()\n",
    "t2=tuple()"
   ]
  },
  {
   "cell_type": "code",
   "execution_count": 96,
   "id": "80375bd7",
   "metadata": {},
   "outputs": [],
   "source": [
    "t1=(1,2,3,'python',(1,2,3),[1,2,3])"
   ]
  },
  {
   "cell_type": "code",
   "execution_count": 97,
   "id": "e50b8f71",
   "metadata": {},
   "outputs": [
    {
     "name": "stdout",
     "output_type": "stream",
     "text": [
      "1 [1, 2, 3] 3 (1, 2, 3)\n"
     ]
    }
   ],
   "source": [
    "print(t1[0],t1[-1],t1[2],t1[-2])"
   ]
  },
  {
   "cell_type": "code",
   "execution_count": 98,
   "id": "9a1bca21",
   "metadata": {},
   "outputs": [
    {
     "name": "stdout",
     "output_type": "stream",
     "text": [
      "(1, 2)\n"
     ]
    }
   ],
   "source": [
    "print(t1[0:2])"
   ]
  },
  {
   "cell_type": "code",
   "execution_count": 99,
   "id": "29a397b5",
   "metadata": {},
   "outputs": [
    {
     "data": {
      "text/plain": [
       "1"
      ]
     },
     "execution_count": 99,
     "metadata": {},
     "output_type": "execute_result"
    }
   ],
   "source": [
    "t1[0]"
   ]
  },
  {
   "cell_type": "code",
   "execution_count": 100,
   "id": "83250efe",
   "metadata": {},
   "outputs": [
    {
     "name": "stdout",
     "output_type": "stream",
     "text": [
      "1\n",
      "2\n",
      "3\n",
      "python\n",
      "(1, 2, 3)\n",
      "[1, 2, 3]\n"
     ]
    }
   ],
   "source": [
    "for ele in t1:\n",
    "    print(ele)"
   ]
  },
  {
   "cell_type": "code",
   "execution_count": 101,
   "id": "1ca8445f",
   "metadata": {},
   "outputs": [
    {
     "name": "stdout",
     "output_type": "stream",
     "text": [
      "6\n"
     ]
    }
   ],
   "source": [
    "print(len(t1))"
   ]
  },
  {
   "cell_type": "markdown",
   "id": "6df4e907",
   "metadata": {},
   "source": [
    "## tuple methods"
   ]
  },
  {
   "cell_type": "code",
   "execution_count": 102,
   "id": "036cce50",
   "metadata": {},
   "outputs": [
    {
     "name": "stdout",
     "output_type": "stream",
     "text": [
      "1\n"
     ]
    }
   ],
   "source": [
    "print(t1.count(1))"
   ]
  },
  {
   "cell_type": "code",
   "execution_count": 104,
   "id": "54d41473",
   "metadata": {},
   "outputs": [
    {
     "name": "stdout",
     "output_type": "stream",
     "text": [
      "3\n"
     ]
    }
   ],
   "source": [
    "print(t1.index(\"python\"))"
   ]
  },
  {
   "cell_type": "markdown",
   "id": "6a4e6ca5",
   "metadata": {},
   "source": [
    "## tasks\n",
    "\n",
    "Mathematicians usually write tuples by listing the elements within parentheses \"( )\" and separated by commas; for example, (2, 7, 4, 1, 7) denotes a 5-tuple. Sometimes other symbols are used to surround the elements, such as square brackets \"[ ]\" or angle brackets \"⟨ ⟩\". Braces \"{ }\" are used to specify arrays in some programming languages but not in mathematical expressions, as they are the standard notation for sets. The term tuple can often occur when discussing other mathematical objects, such as vectors.\n",
    "\n",
    "In computer science, tuples come in many forms. Most typed functional programming languages implement tuples directly as product types,[1] tightly associated with algebraic data types, pattern matching, and destructuring assignment.[2] Many programming languages offer an alternative to tuples, known as record types, featuring unordered elements accessed by label.[3] A few programming languages combine ordered tuple product types and unordered record types into a single construct, as in C structs and Haskell records. Relational databases may formally identify their rows (records) as tuples."
   ]
  },
  {
   "cell_type": "code",
   "execution_count": 107,
   "id": "2d94f8b6",
   "metadata": {},
   "outputs": [],
   "source": [
    "s='''Mathematicians usually write tuples by listing the elements within parentheses \"( )\" and separated by commas; for example, (2, 7, 4, 1, 7) denotes a 5-tuple. Sometimes other symbols are used to surround the elements, such as square brackets \"[ ]\" or angle brackets \"⟨ ⟩\". Braces \"{ }\" are used to specify arrays in some programming languages but not in mathematical expressions, as they are the standard notation for sets. The term tuple can often occur when discussing other mathematical objects, such as vectors.\n",
    "\n",
    "In computer science, tuples come in many forms. Most typed functional programming languages implement tuples directly as product types,[1] tightly associated with algebraic data types, pattern matching, and destructuring assignment.[2] Many programming languages offer an alternative to tuples, known as record types, featuring unordered elements accessed by label.[3] A few programming languages combine ordered tuple product types and unordered record types into a single construct, as in C structs and Haskell records. Relational databases may formally identify their rows (records) as tuples.'''"
   ]
  },
  {
   "cell_type": "code",
   "execution_count": 108,
   "id": "faea4bc7",
   "metadata": {},
   "outputs": [
    {
     "name": "stdout",
     "output_type": "stream",
     "text": [
      "['Mathematicians', 'usually', 'write', 'tuples', 'by', 'listing', 'the', 'elements', 'within', 'parentheses', '\"(', ')\"', 'and', 'separated', 'by', 'commas;', 'for', 'example,', '(2,', '7,', '4,', '1,', '7)', 'denotes', 'a', '5-tuple.', 'Sometimes', 'other', 'symbols', 'are', 'used', 'to', 'surround', 'the', 'elements,', 'such', 'as', 'square', 'brackets', '\"[', ']\"', 'or', 'angle', 'brackets', '\"⟨', '⟩\".', 'Braces', '\"{', '}\"', 'are', 'used', 'to', 'specify', 'arrays', 'in', 'some', 'programming', 'languages', 'but', 'not', 'in', 'mathematical', 'expressions,', 'as', 'they', 'are', 'the', 'standard', 'notation', 'for', 'sets.', 'The', 'term', 'tuple', 'can', 'often', 'occur', 'when', 'discussing', 'other', 'mathematical', 'objects,', 'such', 'as', 'vectors.', 'In', 'computer', 'science,', 'tuples', 'come', 'in', 'many', 'forms.', 'Most', 'typed', 'functional', 'programming', 'languages', 'implement', 'tuples', 'directly', 'as', 'product', 'types,[1]', 'tightly', 'associated', 'with', 'algebraic', 'data', 'types,', 'pattern', 'matching,', 'and', 'destructuring', 'assignment.[2]', 'Many', 'programming', 'languages', 'offer', 'an', 'alternative', 'to', 'tuples,', 'known', 'as', 'record', 'types,', 'featuring', 'unordered', 'elements', 'accessed', 'by', 'label.[3]', 'A', 'few', 'programming', 'languages', 'combine', 'ordered', 'tuple', 'product', 'types', 'and', 'unordered', 'record', 'types', 'into', 'a', 'single', 'construct,', 'as', 'in', 'C', 'structs', 'and', 'Haskell', 'records.', 'Relational', 'databases', 'may', 'formally', 'identify', 'their', 'rows', '(records)', 'as', 'tuples.']\n"
     ]
    }
   ],
   "source": [
    "print(s.split())"
   ]
  },
  {
   "cell_type": "code",
   "execution_count": 110,
   "id": "2f7714e6",
   "metadata": {},
   "outputs": [
    {
     "name": "stdout",
     "output_type": "stream",
     "text": [
      "yo\n",
      "yyyyy\n"
     ]
    }
   ],
   "source": [
    "print('y'+'o')\n",
    "print('y'*5)"
   ]
  },
  {
   "cell_type": "code",
   "execution_count": null,
   "id": "d4ec7654",
   "metadata": {},
   "outputs": [],
   "source": []
  }
 ],
 "metadata": {
  "kernelspec": {
   "display_name": "Python 3",
   "language": "python",
   "name": "python3"
  },
  "language_info": {
   "codemirror_mode": {
    "name": "ipython",
    "version": 3
   },
   "file_extension": ".py",
   "mimetype": "text/x-python",
   "name": "python",
   "nbconvert_exporter": "python",
   "pygments_lexer": "ipython3",
   "version": "3.8.8"
  }
 },
 "nbformat": 4,
 "nbformat_minor": 5
}
